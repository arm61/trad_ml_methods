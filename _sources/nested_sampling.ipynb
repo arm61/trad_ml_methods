{
 "cells": [
  {
   "cell_type": "markdown",
   "metadata": {},
   "source": [
    "# Nested sampling\n",
    "\n",
    "Nested sampling is a method for Bayesian evidence quantification that was developed by J. Skilling {cite}`skilling_nested_2006`. \n",
    "We won't look in detail at the nested sampling algorithm, however for the interested reader I suggest taking a look at the textbook published by D. S. Sivia and J. Skilling {cite}`sivia_data_2005` and the [background section of the `dynesty` package](https://dynesty.readthedocs.io/en/latest/overview.html).\n",
    "Instead, this section will focusing on using the `dynesty` package to quantify the two models mentioned previously. \n",
    "Then the next section will allow you to apply this method to the interpretation of some neutron reflectometry data. "
   ]
  },
  {
   "cell_type": "code",
   "execution_count": null,
   "metadata": {},
   "outputs": [],
   "source": []
  }
 ],
 "metadata": {
  "kernelspec": {
   "display_name": "Python 3",
   "language": "python",
   "name": "python3"
  },
  "language_info": {
   "codemirror_mode": {
    "name": "ipython",
    "version": 3
   },
   "file_extension": ".py",
   "mimetype": "text/x-python",
   "name": "python",
   "nbconvert_exporter": "python",
   "pygments_lexer": "ipython3",
   "version": "3.8.5"
  }
 },
 "nbformat": 4,
 "nbformat_minor": 4
}

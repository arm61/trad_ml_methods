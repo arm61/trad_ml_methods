{
 "cells": [
  {
   "cell_type": "code",
   "execution_count": 1,
   "metadata": {},
   "outputs": [],
   "source": [
    "# Importing relevant modules\n",
    "import numpy as np\n",
    "import matplotlib.pyplot as plt\n",
    "from scipy import optimize"
   ]
  },
  {
   "cell_type": "markdown",
   "metadata": {},
   "source": [
    "# Bayesian model selection\n",
    "\n",
    "Bayesian model selection is an analytical tool that we can use to compare models with different numbers of parameters while integrating our physical understanding of the models to influence the analysis. \n",
    "For example, consider the following hypothetical *x,y*-data that is shown below (note that in addition to the data being manufactured so are the models discussed below, but bear with me)."
   ]
  },
  {
   "cell_type": "code",
   "execution_count": 2,
   "metadata": {},
   "outputs": [
    {
     "data": {
      "image/png": "[encoded data removed]",
      "text/plain": [
       "<Figure size 432x288 with 1 Axes>"
      ]
     },
     "metadata": {
      "needs_background": "light"
     },
     "output_type": "display_data"
    }
   ],
   "source": [
    "x, y, yerr = np.loadtxt('nested.txt', unpack=True)\n",
    "plt.errorbar(x, y, yerr, marker='o', ls='')\n",
    "plt.xlabel('x')\n",
    "plt.ylabel('y') \n",
    "plt.show()"
   ]
  },
  {
   "cell_type": "markdown",
   "metadata": {},
   "source": [
    "The experiment that gave rise to this data can be explained by either a linear or quadratic model:\n",
    "1. $y = m x + c $ \n",
    "2. $y = ax^2 + bx + c$\n",
    "\n",
    "In the literature, the model 2 is twice as common (due to model 1 being quantum mechanically forbidden). \n",
    "Let's find the likelihood for each of the models, as [discussed previously](./likelihood). "
   ]
  },
  {
   "cell_type": "code",
   "execution_count": 3,
   "metadata": {},
   "outputs": [],
   "source": [
    "def model1(x, m, c):\n",
    "    return m * x + c\n",
    "\n",
    "def model2(x, a, b, c):\n",
    "    return a * x ** 2 + b * x + c\n",
    "\n",
    "popt1, pcov1 = optimize.curve_fit(model1, x, y)\n",
    "popt2, pcov2 = optimize.curve_fit(model2, x, y)"
   ]
  },
  {
   "cell_type": "markdown",
   "metadata": {},
   "source": [
    "We will quickly visualise these two models to get a comparison. "
   ]
  },
  {
   "cell_type": "code",
   "execution_count": 4,
   "metadata": {},
   "outputs": [
    {
     "data": {
      "image/png": "[encoded data removed]",
      "text/plain": [
       "<Figure size 432x288 with 1 Axes>"
      ]
     },
     "metadata": {
      "needs_background": "light"
     },
     "output_type": "display_data"
    }
   ],
   "source": [
    "plt.errorbar(x, y, yerr, marker='o', ls='')\n",
    "plt.plot(x, model1(x, *popt1), label='model 1')\n",
    "plt.plot(x, model2(x, *popt2), label='model 2')\n",
    "plt.xlabel('x')\n",
    "plt.ylabel('y') \n",
    "plt.legend()\n",
    "plt.show()"
   ]
  },
  {
   "cell_type": "code",
   "execution_count": 5,
   "metadata": {},
   "outputs": [
    {
     "name": "stdout",
     "output_type": "stream",
     "text": [
      "ln[L(model1)] = -2.14e+01\n",
      "ln[L(model2)] = -1.86e+01\n"
     ]
    }
   ],
   "source": [
    "def loglike(x, y, dy, model, popt):\n",
    "    return -0.5 * np.sum(np.square((y - model(x, *popt)) / dy) + np.log(2 * np.pi * dy ** 2))\n",
    "\n",
    "l1 = loglike(x, y, yerr, model1, popt1)\n",
    "l2 = loglike(x, y, yerr, model2, popt2)\n",
    "\n",
    "print('ln[L(model1)] = {:.2e}'.format(l1))\n",
    "print('ln[L(model2)] = {:.2e}'.format(l2))"
   ]
  },
  {
   "cell_type": "markdown",
   "metadata": {},
   "source": [
    "Above, we can see that the more complex and less common model is more likely given the experimental data. \n",
    "Hopefully, we recognise that the model with more parameters is better suited to agree with the experimental data {cite}`mayer_drawing_2010`.\n",
    "\n",
    "The above, likelihood values insinuate that model 2 is correct and any rationalisations that we draw should be based around this model. \n",
    "However, how do we know that:\n",
    "1. We have not overfit by comparing a model with two-parameter against a model with one, \n",
    "2. We are correct given the preference for model 1 found in the literature. \n",
    "\n",
    "This is where Bayesian model selection can be used. \n",
    "Offering the ability to account for the greater number of parameters in a more complex model, while enabling a prior probability about the models to be integrated into the analysis. "
   ]
  },
  {
   "cell_type": "code",
   "execution_count": null,
   "metadata": {},
   "outputs": [],
   "source": []
  }
 ],
 "metadata": {
  "kernelspec": {
   "display_name": "Python 3",
   "language": "python",
   "name": "python3"
  },
  "language_info": {
   "codemirror_mode": {
    "name": "ipython",
    "version": 3
   },
   "file_extension": ".py",
   "mimetype": "text/x-python",
   "name": "python",
   "nbconvert_exporter": "python",
   "pygments_lexer": "ipython3",
   "version": "3.7.9"
  }
 },
 "nbformat": 4,
 "nbformat_minor": 4
}

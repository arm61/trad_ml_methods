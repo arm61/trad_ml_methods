{
 "cells": [
  {
   "cell_type": "code",
   "execution_count": 1,
   "metadata": {},
   "outputs": [],
   "source": [
    "# All of the imports\n",
    "import numpy as np\n",
    "import matplotlib.pyplot as plt\n",
    "from scipy import optimize\n",
    "np.random.seed(2)"
   ]
  },
  {
   "cell_type": "markdown",
   "metadata": {},
   "source": [
    "# Bayesian model selection\n",
    "\n",
    "Bayesian model selection is an analytical tool that we can use to compare models with different numbers of parameters, while integrating our physical understanding of the models to influence the analysis. \n",
    "For example, consider the following hypothetical *x,y*-data shown below (note that in addition to the data being manufactured so are the models dicussed below, but bare with me)."
   ]
  },
  {
   "cell_type": "code",
   "execution_count": 2,
   "metadata": {},
   "outputs": [
    {
     "data": {
      "image/png": "[encoded data removed]",
      "text/plain": [
       "<Figure size 432x288 with 1 Axes>"
      ]
     },
     "metadata": {
      "needs_background": "light"
     },
     "output_type": "display_data"
    }
   ],
   "source": [
    "x = np.linspace(0, 10, 10)\n",
    "y = 0.2 * x ** 2 + 5 * x + 2 + np.random.randn(10)\n",
    "dy = np.ones_like(y) * 2.5\n",
    "plt.errorbar(x, y, dy, marker='o', ls='')\n",
    "plt.xlabel('x')\n",
    "plt.ylabel('y') \n",
    "plt.show()"
   ]
  },
  {
   "cell_type": "markdown",
   "metadata": {},
   "source": [
    "The experiment that gave rise to this data can be explained by either a linear or quadratic model:\n",
    "1. $y = m x + c $ \n",
    "2. $y = ax^2 + bx + c$\n",
    "\n",
    "In the literature, the model 2 is twice as common (due to model 1 being quantum mechanically forbidden). \n",
    "Let's find the likelihood for each of the models, as [discussed previously](./likelihood). "
   ]
  },
  {
   "cell_type": "code",
   "execution_count": 9,
   "metadata": {},
   "outputs": [],
   "source": [
    "def model1(x, m, c):\n",
    "    return m * x + c\n",
    "\n",
    "def model2(x, a, b, c):\n",
    "    return a * x ** 2 + b * x + c\n",
    "\n",
    "popt1, pcov1 = optimize.curve_fit(model1, x, y)\n",
    "popt2, pcov2 = optimize.curve_fit(model2, x, y)"
   ]
  },
  {
   "cell_type": "code",
   "execution_count": 10,
   "metadata": {},
   "outputs": [
    {
     "data": {
      "text/plain": [
       "[<matplotlib.lines.Line2D at 0x7fa550732eb0>]"
      ]
     },
     "execution_count": 10,
     "metadata": {},
     "output_type": "execute_result"
    },
    {
     "data": {
      "image/png": "[encoded data removed]",
      "text/plain": [
       "<Figure size 432x288 with 1 Axes>"
      ]
     },
     "metadata": {
      "needs_background": "light"
     },
     "output_type": "display_data"
    }
   ],
   "source": [
    "plt.errorbar(x, y, dy, marker='o', ls='')\n",
    "plt.plot(x, model1(x, *popt1))\n",
    "plt.plot(x, model2(x, *popt2))"
   ]
  },
  {
   "cell_type": "code",
   "execution_count": 11,
   "metadata": {},
   "outputs": [],
   "source": [
    "def likelihood(x, y, dy, model, popt):\n",
    "    return np.exp(-0.5 * np.sum(np.square((y - model(x, *popt)) / dy) + np.log(2 * np.pi * dy ** 2)))"
   ]
  },
  {
   "cell_type": "code",
   "execution_count": 12,
   "metadata": {},
   "outputs": [],
   "source": [
    "l1 = likelihood(x, y, dy, model1, popt1)\n",
    "l2 = likelihood(x, y, dy, model2, popt2)"
   ]
  },
  {
   "cell_type": "code",
   "execution_count": 13,
   "metadata": {},
   "outputs": [
    {
     "name": "stdout",
     "output_type": "stream",
     "text": [
      "L(model1) = 4.23e-10\n",
      "L(model2) = 4.52e-09\n"
     ]
    }
   ],
   "source": [
    "print('L(model1) = {:.2e}'.format(l1))\n",
    "print('L(model2) = {:.2e}'.format(l2))"
   ]
  },
  {
   "cell_type": "markdown",
   "metadata": {},
   "source": [
    "Above, we can see that the more complex and less common model is more likely given the experimental data. \n",
    "Hopefully, we recognise that the model with more parameters is better suited to agree with the experimental data {cite}`mayer_drawing_2010`."
   ]
  },
  {
   "cell_type": "code",
   "execution_count": 8,
   "metadata": {},
   "outputs": [
    {
     "data": {
      "text/plain": [
       "array([ 1.58324215,  7.74620231, 11.96256934, 22.5291597 , 26.37940392,\n",
       "       35.10886992, 44.72510364, 51.74236623, 61.18896136, 71.09099239])"
      ]
     },
     "execution_count": 8,
     "metadata": {},
     "output_type": "execute_result"
    }
   ],
   "source": [
    "y"
   ]
  },
  {
   "cell_type": "code",
   "execution_count": null,
   "metadata": {},
   "outputs": [],
   "source": []
  }
 ],
 "metadata": {
  "kernelspec": {
   "display_name": "Python 3",
   "language": "python",
   "name": "python3"
  },
  "language_info": {
   "codemirror_mode": {
    "name": "ipython",
    "version": 3
   },
   "file_extension": ".py",
   "mimetype": "text/x-python",
   "name": "python",
   "nbconvert_exporter": "python",
   "pygments_lexer": "ipython3",
   "version": "3.8.5"
  }
 },
 "nbformat": 4,
 "nbformat_minor": 4
}

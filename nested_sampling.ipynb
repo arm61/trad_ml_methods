{
 "cells": [
  {
   "cell_type": "code",
   "execution_count": 1,
   "metadata": {},
   "outputs": [],
   "source": [
    "# Importing relevant modules\n",
    "import numpy as np\n",
    "import matplotlib.pyplot as plt\n",
    "from scipy.stats import uniform\n",
    "from dynesty import NestedSampler\n",
    "np.random.seed(1)"
   ]
  },
  {
   "cell_type": "markdown",
   "metadata": {},
   "source": [
    "# Nested sampling\n",
    "\n",
    "Nested sampling is a method for Bayesian evidence quantification that was developed by J. Skilling {cite}`skilling_nested_2006`. \n",
    "We won't look in detail at the nested sampling algorithm, however for the interested reader I suggest taking a look at the textbook published by D. S. Sivia and J. Skilling {cite}`sivia_data_2005` and the [background section of the `dynesty` package](https://dynesty.readthedocs.io/en/latest/overview.html).\n",
    "Instead, this section will focus on using the `dynesty` package to quantify the two models mentioned previously. \n",
    "Then the next section will allow you to apply this method to the interpretation of some neutron reflectometry data.\n",
    "\n",
    "Firstly, let's get the data and models back. "
   ]
  },
  {
   "cell_type": "code",
   "execution_count": 2,
   "metadata": {},
   "outputs": [
    {
     "data": {
      "image/png": "[encoded data removed]",
      "text/plain": [
       "<Figure size 432x288 with 1 Axes>"
      ]
     },
     "metadata": {
      "needs_background": "light"
     },
     "output_type": "display_data"
    }
   ],
   "source": [
    "x, y, yerr = np.loadtxt('nested.txt', unpack=True)\n",
    "plt.errorbar(x, y, yerr, marker='o', ls='')\n",
    "plt.xlabel('x')\n",
    "plt.ylabel('y') \n",
    "plt.show()"
   ]
  },
  {
   "cell_type": "markdown",
   "metadata": {},
   "source": [
    "The potential models are either linear or quadratic:\n",
    "1. $y = m x + c $ \n",
    "2. $y = ax^2 + bx + c$"
   ]
  },
  {
   "cell_type": "code",
   "execution_count": 3,
   "metadata": {},
   "outputs": [],
   "source": [
    "def model1(x, m, c):\n",
    "    return m * x + c\n",
    "\n",
    "def model2(x, a, b, c):\n",
    "    return a * x ** 2 + b * x + c"
   ]
  },
  {
   "cell_type": "markdown",
   "metadata": {},
   "source": [
    "Now we need to create function that will return the [log-likelihood](./likelihood) for a model and a given set of parameters."
   ]
  },
  {
   "cell_type": "code",
   "execution_count": 4,
   "metadata": {},
   "outputs": [],
   "source": [
    "def loglike(p, x, y, yerr, model):\n",
    "    return -0.5 * np.sum(np.square((y - model(x, *p)) / yerr) + np.log(2 * np.pi * yerr))"
   ]
  },
  {
   "cell_type": "markdown",
   "metadata": {},
   "source": [
    "Since the determination of the evidence is the integral of the likelihood and the prior for each parameter, we must define these. \n",
    "These must be bounded integrals, i.e. they cannot start or end at infinity. \n",
    "For this example, uninformative priors (where all values within the bounds are equally likely) where used. \n",
    "These are defined within the prior transform function below. "
   ]
  },
  {
   "cell_type": "code",
   "execution_count": 5,
   "metadata": {},
   "outputs": [],
   "source": [
    "def pt_model1(u): \n",
    "    \"\"\"\n",
    "    The prior transform for model one, \n",
    "    where 0<=m<10 and -5<=c<5.\n",
    "    \n",
    "    Args:\n",
    "        u (array_like): Object to be transformed.\n",
    "    \n",
    "    Returns:\n",
    "        (array_like): Priors.\n",
    "    \"\"\"\n",
    "    x = np.array(u)\n",
    "    x[0] = uniform.ppf(u[0], 0, 10)\n",
    "    x[1] = uniform.ppf(u[1], -5, 5)\n",
    "    return x \n",
    "\n",
    "def pt_model2(u): \n",
    "    \"\"\"\n",
    "    The prior transform for model two, \n",
    "    where 0<=a<1, 0<=b<10, and 0<=c<5.\n",
    "    \n",
    "    Args:\n",
    "        u (array_like): Object to be transformed.\n",
    "    \n",
    "    Returns:\n",
    "        (array_like): Priors.\n",
    "    \"\"\"\n",
    "    x = np.array(u)\n",
    "    x[0] = uniform.ppf(u[0], 0, 1)\n",
    "    x[1] = uniform.ppf(u[1], 0, 10)\n",
    "    x[2] = uniform.ppf(u[2], 0, 5)\n",
    "    return x "
   ]
  },
  {
   "cell_type": "markdown",
   "metadata": {},
   "source": [
    "We can then set up the `NestedSampler`-class objects. \n",
    "Note that because the `loglike` arguments are not just the parameters being evaluated then we must include the additional arguments in the `logl_args` keyword argument.\n",
    "Below, we set up the sampler for each of the two models."
   ]
  },
  {
   "cell_type": "code",
   "execution_count": 6,
   "metadata": {},
   "outputs": [],
   "source": [
    "sampler1 = NestedSampler(loglike, pt_model1, 2, logl_args=[x, y, yerr, model1])\n",
    "sampler2 = NestedSampler(loglike, pt_model2, 3, logl_args=[x, y, yerr, model2])"
   ]
  },
  {
   "cell_type": "markdown",
   "metadata": {},
   "source": [
    "The sampling is then performed with the `run_nested()` method, when running locally setting `print_progress` to `True` can be helpful in diagnostics. "
   ]
  },
  {
   "cell_type": "code",
   "execution_count": 7,
   "metadata": {},
   "outputs": [],
   "source": [
    "sampler1.run_nested(print_progress=False)"
   ]
  },
  {
   "cell_type": "code",
   "execution_count": 8,
   "metadata": {},
   "outputs": [],
   "source": [
    "sampler2.run_nested(print_progress=False)"
   ]
  },
  {
   "cell_type": "markdown",
   "metadata": {},
   "source": [
    "These will run until some stopping criteria is reached, by default this stopping criteria is that the change in the estimated log-evidence is less than 0.001.\n",
    "We can visualise the convergence of the log-evidence by examing the `results` attribute."
   ]
  },
  {
   "cell_type": "code",
   "execution_count": 9,
   "metadata": {},
   "outputs": [
    {
     "data": {
      "image/png": "[encoded data removed]",
      "text/plain": [
       "<Figure size 432x288 with 1 Axes>"
      ]
     },
     "metadata": {
      "needs_background": "light"
     },
     "output_type": "display_data"
    }
   ],
   "source": [
    "plt.plot(sampler1.results['logz'], label='model1')\n",
    "plt.plot(sampler2.results['logz'], label='model2')\n",
    "plt.legend()\n",
    "plt.xscale('log')\n",
    "plt.xlabel('Iteration')\n",
    "plt.ylabel('$\\ln[P(\\mathbf{D}|H)]$')\n",
    "plt.show()"
   ]
  },
  {
   "cell_type": "markdown",
   "metadata": {},
   "source": [
    "The final estimate for the log-evidence is the value that we are interested in. \n",
    "We mentioned previously that the simpler model 2 was twice as common as the more complex model 1. \n",
    "Therefore we can define these as log-priors. "
   ]
  },
  {
   "cell_type": "code",
   "execution_count": 10,
   "metadata": {},
   "outputs": [],
   "source": [
    "model1_logz = sampler1.results['logz'][-1]\n",
    "model2_logz = sampler2.results['logz'][-1]\n",
    "model1_logp = np.log(2 / 3)\n",
    "model2_logp = np.log(1 / 3)"
   ]
  },
  {
   "cell_type": "markdown",
   "metadata": {},
   "source": [
    "From these, we can find the log-posteriors and therefore the Bayes' factor. "
   ]
  },
  {
   "cell_type": "code",
   "execution_count": 11,
   "metadata": {},
   "outputs": [],
   "source": [
    "model1_logpost = model1_logz + model1_logp\n",
    "model2_logpost = model2_logz + model2_logp\n",
    "bayes_factor = 2 * (model2_logpost - model1_logpost)"
   ]
  },
  {
   "cell_type": "code",
   "execution_count": 12,
   "metadata": {},
   "outputs": [
    {
     "name": "stdout",
     "output_type": "stream",
     "text": [
      "2ln(B) = 0.7489\n"
     ]
    }
   ],
   "source": [
    "print('2ln(B) = {:.4f}'.format(bayes_factor))"
   ]
  },
  {
   "cell_type": "markdown",
   "metadata": {},
   "source": [
    "The Bayes' factor is between 0 and 2, indicating that the more complex model is \"not worth more than a bare mention\". \n",
    "Note that if our prior understanding of these two models was not integrated into this comparison, there would be \"positive\" evidence for the more complex model."
   ]
  },
  {
   "cell_type": "code",
   "execution_count": 13,
   "metadata": {},
   "outputs": [
    {
     "name": "stdout",
     "output_type": "stream",
     "text": [
      "Bayes' with no prior = 2.1352\n"
     ]
    }
   ],
   "source": [
    "no_prior = 2 * (model2_logz - model1_logz)\n",
    "print('Bayes\\' factor with no prior = {:.4f}'.format(no_prior))"
   ]
  },
  {
   "cell_type": "markdown",
   "metadata": {},
   "source": [
    "Hopefully, from this example you will have seen how to create a `dynesty` compatible model that we can find the log-evidence for and how we can use this for model comparison. \n",
    "The exercise associated with this involves applying this methodology to model comparison in neutron reflectometry analysis but hopefully you can see the broader utility of this subject. "
   ]
  },
  {
   "cell_type": "code",
   "execution_count": null,
   "metadata": {},
   "outputs": [],
   "source": []
  }
 ],
 "metadata": {
  "kernelspec": {
   "display_name": "Python 3",
   "language": "python",
   "name": "python3"
  },
  "language_info": {
   "codemirror_mode": {
    "name": "ipython",
    "version": 3
   },
   "file_extension": ".py",
   "mimetype": "text/x-python",
   "name": "python",
   "nbconvert_exporter": "python",
   "pygments_lexer": "ipython3",
   "version": "3.7.9"
  }
 },
 "nbformat": 4,
 "nbformat_minor": 4
}

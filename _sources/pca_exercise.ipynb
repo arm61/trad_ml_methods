{
 "cells": [
  {
   "cell_type": "markdown",
   "id": "moderate-netscape",
   "metadata": {},
   "source": [
    "# PCA for edge detection\n",
    "\n",
    "This exercise will involve using principal component analysis as a fast tool to improve edge detection in neutron imaging. \n",
    "The idea for the exercise comes from discussion of PCA in [Jake VanderPlas' Python Data Science Handbook](https://jakevdp.github.io/PythonDataScienceHandbook/) {cite}`vanderplas_python_2016`, while the data was take from an [open dataset](https://doi.org/10.5281/zenodo.825926) {cite}`burca_crab_2017`. \n",
    "For this exericse, we will consider a neutron image of a fossil, that can be downloaded [here](https://github.com/arm61/trad_ml_methods/raw/main/fossil.tiff) (it is probably best to right click and save the file as `'fossil.tiff'`).\n",
    "\n",
    "The first task is that we read in the file and can visualise it, for this we will require the `pillow` package as well as `numpy` and `matplotlib`."
   ]
  },
  {
   "cell_type": "code",
   "execution_count": 1,
   "id": "artistic-preparation",
   "metadata": {},
   "outputs": [],
   "source": [
    "import numpy as np\n",
    "import matplotlib.pyplot as plt\n",
    "from PIL import Image"
   ]
  },
  {
   "cell_type": "code",
   "execution_count": null,
   "id": "available-hardware",
   "metadata": {},
   "outputs": [],
   "source": []
  }
 ],
 "metadata": {
  "kernelspec": {
   "display_name": "Python 3",
   "language": "python",
   "name": "python3"
  },
  "language_info": {
   "codemirror_mode": {
    "name": "ipython",
    "version": 3
   },
   "file_extension": ".py",
   "mimetype": "text/x-python",
   "name": "python",
   "nbconvert_exporter": "python",
   "pygments_lexer": "ipython3",
   "version": "3.7.9"
  }
 },
 "nbformat": 4,
 "nbformat_minor": 5
}

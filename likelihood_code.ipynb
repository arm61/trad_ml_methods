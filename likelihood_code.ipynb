{
 "cells": [
  {
   "cell_type": "code",
   "execution_count": 1,
   "metadata": {},
   "outputs": [],
   "source": [
    "import numpy as np\n",
    "import matplotlib.pyplot as plt "
   ]
  },
  {
   "cell_type": "code",
   "execution_count": 2,
   "metadata": {},
   "outputs": [],
   "source": [
    "x, y, yerr = np.loadtxt('lorentzian.txt', unpack=True)"
   ]
  },
  {
   "cell_type": "code",
   "execution_count": 3,
   "metadata": {},
   "outputs": [],
   "source": [
    "def lorentzian(x, A, gamma):\n",
    "    \"\"\"\n",
    "    Lorentzian function for QENS analysis, constrained a bit.\n",
    "    \n",
    "    Args:\n",
    "        x (array_like): energy transfer values. \n",
    "        A (float): scale factor.\n",
    "        gamma (float): half width at half maximum.\n",
    "        \n",
    "    Returns:\n",
    "        (array_like): model scattering function\"\"\"\n",
    "    x0, b = -0.038281944596418975, 0.49566380819342426\n",
    "    return (A / (np.pi * gamma * (1 + np.square((x - x0) / gamma)))) + b"
   ]
  },
  {
   "cell_type": "code",
   "execution_count": 4,
   "metadata": {},
   "outputs": [],
   "source": [
    "def likelihood(A, gamma):\n",
    "    return -0.5 * np.sum(np.square((y - lorentzian(x, A, gamma)) / yerr) + np.log(2 * np.pi * yerr))"
   ]
  },
  {
   "cell_type": "code",
   "execution_count": 5,
   "metadata": {},
   "outputs": [],
   "source": [
    "A_range = np.linspace(0.932, 0.96, 100)\n",
    "gamma_range = np.linspace(0.525, 0.55, 100)\n",
    "X, Y = np.meshgrid(A_range, gamma_range)\n",
    "Z = np.zeros_like(X)\n",
    "for i, A in enumerate(A_range):\n",
    "    for j, gamma in enumerate(gamma_range):\n",
    "        Z[j, i] = np.exp(likelihood(A, gamma))"
   ]
  },
  {
   "cell_type": "code",
   "execution_count": 6,
   "metadata": {},
   "outputs": [
    {
     "data": {
      "image/png": "[encoded data removed]",
      "text/plain": [
       "<Figure size 432x288 with 2 Axes>"
      ]
     },
     "metadata": {
      "needs_background": "light"
     },
     "output_type": "display_data"
    }
   ],
   "source": [
    "fig = plt.figure(figsize=(6, 4))\n",
    "plt.contourf(X, Y, Z, cmap='Blues')\n",
    "plt.colorbar(label='$\\mathcal{L}[\\mathbf{D}|M(\\mathbf{X})]$')\n",
    "plt.ylabel('$\\gamma$')\n",
    "plt.xlabel('$A$')\n",
    "plt.tight_layout()\n",
    "plt.savefig('likelihood_plot.png', transparent=True, facecolor='white')"
   ]
  },
  {
   "cell_type": "code",
   "execution_count": null,
   "metadata": {},
   "outputs": [],
   "source": []
  }
 ],
 "metadata": {
  "kernelspec": {
   "display_name": "Python 3",
   "language": "python",
   "name": "python3"
  },
  "language_info": {
   "codemirror_mode": {
    "name": "ipython",
    "version": 3
   },
   "file_extension": ".py",
   "mimetype": "text/x-python",
   "name": "python",
   "nbconvert_exporter": "python",
   "pygments_lexer": "ipython3",
   "version": "3.8.5"
  }
 },
 "nbformat": 4,
 "nbformat_minor": 4
}

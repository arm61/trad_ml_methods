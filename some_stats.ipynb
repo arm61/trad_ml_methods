{
 "cells": [
  {
   "cell_type": "code",
   "execution_count": 85,
   "metadata": {},
   "outputs": [],
   "source": [
    "# Importing some modules\n",
    "import numpy as np\n",
    "import matplotlib.pyplot as plt \n",
    "from scipy.optimize import curve_fit\n",
    "from inspect import getfullargspec"
   ]
  },
  {
   "cell_type": "markdown",
   "metadata": {},
   "source": [
    "# Some statistics\n",
    "\n",
    "<center>\n",
    "  <img src=\"https://miro.medium.com/max/500/1*x7P7gqjo8k2_bj2rTQWAfg.jpeg\" alt=\"A meme about machine learning being a fancy name for statistics\" class=\"bg-primary\" width=\"500px\">\n",
    "</center><br>\n",
    "\n",
    "While the above image is [hyperbolic](https://towardsdatascience.com/no-machine-learning-is-not-just-glorified-statistics-26d3952234e3), learning about machine learning methods benefits from some basic grounding in statistics.\n",
    "Therefore, we will *quickly* introduce some basics of statistical modelling for data analysis before moving on to look at our traditional machine learning methods.\n",
    "\n",
    "## Model-dependent analysis\n",
    "\n",
    "The majority of neutron scattering (both elastic and inelastic) data is analysed through a model-dependent approach.\n",
    "This is where some model is proposed that we can produce some model data from, the model has some parameters that we refine to get the best agreement between the model data and our experimental data.\n",
    "Consider the fitting of different functional descriptions to quasi-elastic neutron scattering (QENS) data.\n",
    "Below, we read in and plot some [example](./example) QENS data."
   ]
  },
  {
   "cell_type": "code",
   "execution_count": 29,
   "metadata": {},
   "outputs": [],
   "source": [
    "x, y, yerr = np.loadtxt('lorentzian.txt', unpack=True)"
   ]
  },
  {
   "cell_type": "code",
   "execution_count": 49,
   "metadata": {},
   "outputs": [
    {
     "data": {
      "image/png": "[encoded data removed]",
      "text/plain": [
       "<Figure size 432x288 with 1 Axes>"
      ]
     },
     "metadata": {
      "needs_background": "light"
     },
     "output_type": "display_data"
    }
   ],
   "source": [
    "plt.errorbar(x, y, yerr, marker='o', ls='')\n",
    "plt.xlabel('$\\hbar \\omega$')\n",
    "plt.ylabel('$S(q,\\omega)$')\n",
    "plt.show()"
   ]
  },
  {
   "cell_type": "markdown",
   "metadata": {},
   "source": [
    "The aim is to model this as a Lorentzian funtion with some uniform background added (for simplicity we will ignore the resolution function). \n",
    "We can describe this mathematically as follows, \n",
    "\n",
    "$$ y = \\frac{A}{\\pi\\gamma \\big(1 + \\frac{x - x_0}{\\gamma}\\big)^2} + b, $$\n",
    "\n",
    "where, $A$ is a scale factor, $\\gamma$ is half of the full width at half maximum, $x_0$ is the peak centre, and $b$ is the uniform background.\n",
    "Above, we have used $x$ and $y$ in lieu of $\\hbar\\omega$ and $S(q, \\omega)$.\n",
    "In order to use this function for analysis, we will write is as a Python function. "
   ]
  },
  {
   "cell_type": "code",
   "execution_count": 50,
   "metadata": {},
   "outputs": [],
   "source": [
    "def lorentzian(x, A, gamma, x0, b):\n",
    "    \"\"\"\n",
    "    Lorentzian function for QENS analysis.\n",
    "    \n",
    "    Args:\n",
    "        x (array_like): energy transfer values. \n",
    "        A (float): scale factor.\n",
    "        gamma (float): half width at half maximum.\n",
    "        x_0 (float): peak centre\n",
    "        b (float): background\n",
    "        \n",
    "    Returns:\n",
    "        (array_like): model scattering function\"\"\"\n",
    "    return (A / (np.pi * gamma * (1 + np.square((x - x0) / gamma)))) + b"
   ]
  },
  {
   "cell_type": "markdown",
   "metadata": {},
   "source": [
    "You may be familiar with using `scipy.optimize.curve_fit` to optimize the parameters of some function to a dataset. \n",
    "We carry this out below."
   ]
  },
  {
   "cell_type": "code",
   "execution_count": 51,
   "metadata": {},
   "outputs": [],
   "source": [
    "popt, pcov = curve_fit(lorentzian, x, y, sigma=yerr, absolute_sigma=True)\n",
    "punc = np.sqrt(np.diag(pcov))"
   ]
  },
  {
   "cell_type": "code",
   "execution_count": 52,
   "metadata": {},
   "outputs": [
    {
     "data": {
      "image/png": "[encoded data removed]",
      "text/plain": [
       "<Figure size 432x288 with 1 Axes>"
      ]
     },
     "metadata": {
      "needs_background": "light"
     },
     "output_type": "display_data"
    }
   ],
   "source": [
    "plt.errorbar(x, y, yerr, marker='o', ls='')\n",
    "plt.plot(x, lorentzian(x, *popt), 'k', zorder=10)\n",
    "plt.xlabel('$\\hbar \\omega$')\n",
    "plt.ylabel('$S(q,\\omega)$')\n",
    "plt.show()"
   ]
  },
  {
   "cell_type": "code",
   "execution_count": 84,
   "metadata": {},
   "outputs": [
    {
     "name": "stdout",
     "output_type": "stream",
     "text": [
      "A     =  0.946 +/- 0.011\n",
      "gamma =  0.538 +/- 0.008\n",
      "x0    = -0.038 +/- 0.007\n",
      "b     =  0.496 +/- 0.001\n"
     ]
    }
   ],
   "source": [
    "for i, arg in enumerate(getfullargspec(lorentzian).args[1:]):\n",
    "    print(f\"{arg:<6}= {popt[i]:^7.3f}+/- {punc[i]:>.3f}\")"
   ]
  },
  {
   "cell_type": "markdown",
   "metadata": {},
   "source": [
    "This is a simple example of the application of model dependent analysis, we have used some optimisation method (in this example, the Levenberg-Marquardt algorithm {cite}`levenberg_method_1944`) to find the values of $A$, $\\gamma$, $x_0$, and $b$ that offer the best agreement between our data and our model. "
   ]
  },
  {
   "cell_type": "code",
   "execution_count": null,
   "metadata": {},
   "outputs": [],
   "source": []
  }
 ],
 "metadata": {
  "kernelspec": {
   "display_name": "Python 3",
   "language": "python",
   "name": "python3"
  },
  "language_info": {
   "codemirror_mode": {
    "name": "ipython",
    "version": 3
   },
   "file_extension": ".py",
   "mimetype": "text/x-python",
   "name": "python",
   "nbconvert_exporter": "python",
   "pygments_lexer": "ipython3",
   "version": "3.8.5"
  }
 },
 "nbformat": 4,
 "nbformat_minor": 4
}
